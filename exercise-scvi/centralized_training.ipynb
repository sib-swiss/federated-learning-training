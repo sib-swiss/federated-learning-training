{
 "cells": [
  {
   "cell_type": "code",
   "execution_count": null,
   "id": "84e6e22d",
   "metadata": {},
   "outputs": [],
   "source": [
    "import os\n",
    "import scanpy as sc\n",
    "import scvi\n",
    "import json\n",
    "from sklearn.model_selection import train_test_split\n",
    "import numpy as np"
   ]
  },
  {
   "cell_type": "code",
   "execution_count": null,
   "id": "385fec82",
   "metadata": {},
   "outputs": [],
   "source": [
    "\n",
    "# Define data paths\n",
    "data_dir = \"data_input\"\n",
    "os.makedirs(data_dir, exist_ok=True)\n",
    "\n",
    "pancreas_adata_path = os.path.join(data_dir, \"pancreas_full.h5ad\")\n",
    "train_path = os.path.join(data_dir, \"pancreas_train.h5ad\")\n",
    "valid_path = os.path.join(data_dir, \"pancreas_valid.h5ad\")\n",
    "test_path  = os.path.join(data_dir, \"pancreas_test.h5ad\")\n",
    "\n",
    "# Download if missing, otherwise load from local file\n",
    "pancreas_adata = sc.read(\n",
    "    pancreas_adata_path,\n",
    "    backup_url=\"https://figshare.com/ndownloader/files/24539828\",\n",
    ")\n",
    "\n",
    "# Split dataset by technology: keep smartseq2/celseq2 as held-out test\n",
    "query_mask = pancreas_adata.obs[\"tech\"].isin([\"smartseq2\", \"celseq2\"]).to_numpy()\n",
    "pancreas_no_test = pancreas_adata[~query_mask].copy()\n",
    "pancreas_test    = pancreas_adata[ query_mask].copy()\n",
    "\n",
    "# 80/20 train/valid split on the remaining data, stratified by technology\n",
    "y = pancreas_no_test.obs[\"tech\"].astype(\"category\")\n",
    "indices = np.arange(pancreas_no_test.n_obs)\n",
    "\n",
    "idx_train, idx_valid = train_test_split(\n",
    "    indices,\n",
    "    test_size=0.20,\n",
    "    train_size=0.80,\n",
    "    random_state=42,\n",
    "    shuffle=True,\n",
    "    stratify=y  # stratify by technology\n",
    ")\n",
    "\n",
    "pancreas_train = pancreas_no_test[idx_train].copy()\n",
    "pancreas_valid = pancreas_no_test[idx_valid].copy()\n",
    "\n",
    "# Save splits\n",
    "pancreas_train.write(train_path)\n",
    "pancreas_valid.write(valid_path)\n",
    "pancreas_test.write(test_path)\n",
    "\n",
    "print(\n",
    "    f\"Train: {pancreas_train.n_obs} cells | \"\n",
    "    f\"Valid: {pancreas_valid.n_obs} cells | \"\n",
    "    f\"Test: {pancreas_test.n_obs} cells\"\n",
    ")\n",
    "\n",
    "# Print counts per technology\n",
    "print(\"\\nCells per technology:\")\n",
    "for name, ad in [(\"Train\", pancreas_train),\n",
    "                 (\"Valid\", pancreas_valid),\n",
    "                 (\"Test\", pancreas_test)]:\n",
    "    counts = ad.obs[\"tech\"].value_counts().sort_index()\n",
    "    print(f\"\\n{name} split:\")\n",
    "    for tech, n in counts.items():\n",
    "        print(f\"  {tech}: {n}\")\n",
    "\n",
    "# --- Cleanup: delete the original full dataset file ---\n",
    "del pancreas_adata  # drop reference to ensure no open handle\n",
    "try:\n",
    "    if os.path.exists(pancreas_adata_path):\n",
    "        os.remove(pancreas_adata_path)\n",
    "        print(f\"Deleted '{pancreas_adata_path}'\")\n",
    "except Exception as e:\n",
    "    print(f\"[WARN] Could not delete '{pancreas_adata_path}': {e}\")"
   ]
  },
  {
   "cell_type": "code",
   "execution_count": null,
   "id": "5311c887",
   "metadata": {},
   "outputs": [],
   "source": [
    "# Utility to load HVG list\n",
    "def load_hvg_list(hvg_list_path):\n",
    "    with open(hvg_list_path) as f:\n",
    "        return json.load(f)\n",
    "\n",
    "hvg_list = load_hvg_list(\"data_input/hvg_list.json\")\n",
    "\n",
    "# Restrict to HVG genes\n",
    "pancreas_train = pancreas_train[:, hvg_list].copy()"
   ]
  },
  {
   "cell_type": "markdown",
   "id": "6d35f6d4",
   "metadata": {},
   "source": [
    "## Train of scVI model\n"
   ]
  },
  {
   "cell_type": "code",
   "execution_count": null,
   "id": "a14cd67c",
   "metadata": {},
   "outputs": [],
   "source": [
    "scvi.model.SCVI.setup_anndata(pancreas_train, batch_key=\"tech\", layer=\"counts\")\n",
    "\n",
    "scvi_ref = scvi.model.SCVI(\n",
    "    pancreas_train,\n",
    "    use_layer_norm=\"both\",\n",
    "    use_batch_norm=\"none\",\n",
    "    encode_covariates=True,\n",
    "    dropout_rate=0.2,\n",
    "    n_layers=2,\n",
    ")\n",
    "scvi_ref.train(max_epochs=50)"
   ]
  },
  {
   "cell_type": "code",
   "execution_count": null,
   "id": "bad7e321",
   "metadata": {},
   "outputs": [],
   "source": [
    "scvi_ref.save(\"model_centralized\", overwrite=True)"
   ]
  }
 ],
 "metadata": {
  "kernelspec": {
   "display_name": "fl-course-env",
   "language": "python",
   "name": "python3"
  },
  "language_info": {
   "codemirror_mode": {
    "name": "ipython",
    "version": 3
   },
   "file_extension": ".py",
   "mimetype": "text/x-python",
   "name": "python",
   "nbconvert_exporter": "python",
   "pygments_lexer": "ipython3",
   "version": "3.11.13"
  }
 },
 "nbformat": 4,
 "nbformat_minor": 5
}
