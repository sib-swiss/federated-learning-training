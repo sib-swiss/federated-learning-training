{
 "cells": [
  {
   "cell_type": "code",
   "execution_count": null,
   "id": "5f0b5ba4",
   "metadata": {},
   "outputs": [],
   "source": [
    "import os\n",
    "import anndata\n",
    "import numpy as np\n",
    "import matplotlib.pyplot as plt\n",
    "import scanpy as sc\n",
    "import torch\n",
    "import scvi\n",
    "import json\n",
    "\n",
    "# ----------------- paths / settings -----------------\n",
    "DATA_DIR = \"./data_input\"\n",
    "TEST_PATH  = os.path.join(DATA_DIR, \"pancreas_test.h5ad\")\n",
    "HVG_PATH   = os.path.join(DATA_DIR, \"hvg_list.json\")\n",
    "FEDERATED_STATE_DICT = os.path.join(\"model_federated\", \"model.pt\")\n",
    "CENTRALIZED_FOLDER = os.path.join(\"model_centralized\")"
   ]
  },
  {
   "cell_type": "code",
   "execution_count": null,
   "id": "e1a46af5",
   "metadata": {},
   "outputs": [],
   "source": [
    "# load hvg list\n",
    "with open(HVG_PATH) as f: hvg_list = json.load(f)\n",
    "\n",
    "# load test data\n",
    "adata_test = anndata.read_h5ad(TEST_PATH)\n",
    "adata_test = adata_test[:, hvg_list].copy()"
   ]
  },
  {
   "cell_type": "markdown",
   "id": "42b2e410",
   "metadata": {},
   "source": [
    "## Batch effects in original gene expression"
   ]
  },
  {
   "cell_type": "code",
   "execution_count": null,
   "id": "08243158",
   "metadata": {},
   "outputs": [],
   "source": [
    "# Set raw counts as the working matrix\n",
    "adata_test.X = adata_test.layers[\"counts\"].copy()\n",
    "\n",
    "# Basic preprocessing on expression for plotting\n",
    "sc.pp.normalize_total(adata_test, target_sum=1e4)\n",
    "sc.pp.log1p(adata_test)\n",
    "sc.pp.scale(adata_test, max_value=10) \n",
    "\n",
    "# Dimensionality reduction and UMAP\n",
    "sc.tl.pca(adata_test, n_comps=50)\n",
    "sc.pp.neighbors(adata_test, n_pcs=50)\n",
    "sc.tl.umap(adata_test)\n",
    "\n",
    "sc.pl.umap(adata_test, color=[\"tech\", \"celltype\"], show=False)\n",
    "plt.suptitle(\"Gene Expression UMAP\", fontsize=14, fontweight=\"bold\")\n",
    "plt.show()"
   ]
  },
  {
   "cell_type": "markdown",
   "id": "e61696d7",
   "metadata": {},
   "source": [
    "## Batch effects in latent representation using centralized model"
   ]
  },
  {
   "cell_type": "code",
   "execution_count": null,
   "id": "92b179ae",
   "metadata": {},
   "outputs": [],
   "source": [
    "scvi.model.SCVI.prepare_query_anndata(adata_test, CENTRALIZED_FOLDER)\n",
    "scvi_test = scvi.model.SCVI.load_query_data(adata_test, CENTRALIZED_FOLDER)\n",
    "\n",
    "scvi_test.train(max_epochs=0, plan_kwargs={\"weight_decay\": 0.0})\n",
    "adata_test.obsm[\"X_scVI_centralized\"] = scvi_test.get_latent_representation()\n",
    "\n",
    "# Neighbors/UMAP on the scVI latents\n",
    "sc.pp.neighbors(adata_test, use_rep=\"X_scVI_centralized\")\n",
    "sc.tl.leiden(adata_test)\n",
    "sc.tl.umap(adata_test)\n",
    "\n",
    "sc.pl.umap(adata_test, color=[\"tech\", \"celltype\"], show=False)\n",
    "plt.suptitle(\"SCVI UMAP — Centralized Model\", fontsize=14, fontweight=\"bold\")\n",
    "plt.show()"
   ]
  },
  {
   "cell_type": "markdown",
   "id": "04219575",
   "metadata": {},
   "source": [
    "## Batch effects in latent representation using federated model"
   ]
  },
  {
   "cell_type": "code",
   "execution_count": null,
   "id": "b06cb1ab",
   "metadata": {},
   "outputs": [],
   "source": [
    "scvi_model = scvi.model.SCVI(adata_test, use_layer_norm=\"both\", use_batch_norm=\"none\", encode_covariates=True, dropout_rate=0.2, n_layers=2)\n",
    "state = torch.load(FEDERATED_STATE_DICT, map_location=\"cpu\")\n",
    "scvi_model.module.load_state_dict(state)  # load into underlying torch module\n",
    "scvi_model.is_trained = True              # silence \"not trained\" warnings\n",
    "\n",
    "# ----------------- latents \n",
    "with torch.inference_mode():\n",
    "    adata_test.obsm[\"X_scVI_federated\"] = scvi_model.get_latent_representation()\n",
    "\n",
    "# ----------------- UMAP \n",
    "sc.pp.neighbors(adata_test, use_rep=\"X_scVI_federated\")\n",
    "sc.tl.leiden(adata_test)\n",
    "sc.tl.umap(adata_test)\n",
    "\n",
    "sc.pl.umap(adata_test, color=[\"tech\", \"celltype\"], show=False)\n",
    "plt.suptitle(\"SCVI UMAP — Federated Model\", fontsize=14, fontweight=\"bold\")\n",
    "plt.show()"
   ]
  }
 ],
 "metadata": {
  "kernelspec": {
   "display_name": "fl-course-env",
   "language": "python",
   "name": "python3"
  },
  "language_info": {
   "codemirror_mode": {
    "name": "ipython",
    "version": 3
   },
   "file_extension": ".py",
   "mimetype": "text/x-python",
   "name": "python",
   "nbconvert_exporter": "python",
   "pygments_lexer": "ipython3",
   "version": "3.11.13"
  }
 },
 "nbformat": 4,
 "nbformat_minor": 5
}
