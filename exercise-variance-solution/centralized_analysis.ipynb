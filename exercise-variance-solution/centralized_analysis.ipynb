{
 "cells": [
  {
   "cell_type": "code",
   "execution_count": 3,
   "id": "e72faf8d",
   "metadata": {},
   "outputs": [],
   "source": [
    "import pandas as pd\n",
    "import numpy as np\n",
    "import anndata\n",
    "import json\n",
    "import os\n",
    "import scanpy as sc\n",
    "from sklearn.model_selection import train_test_split"
   ]
  },
  {
   "cell_type": "markdown",
   "id": "9e771352",
   "metadata": {},
   "source": [
    "## Data download"
   ]
  },
  {
   "cell_type": "code",
   "execution_count": 4,
   "id": "e863b2c8",
   "metadata": {},
   "outputs": [
    {
     "name": "stdout",
     "output_type": "stream",
     "text": [
      "Train: 9362 cells | Valid: 2341 cells | Test: 4679 cells\n",
      "\n",
      "Cells per technology:\n",
      "\n",
      "Train split:\n",
      "  celseq: 803\n",
      "  fluidigmc1: 510\n",
      "  inDrop1: 1550\n",
      "  inDrop2: 1379\n",
      "  inDrop3: 2884\n",
      "  inDrop4: 1042\n",
      "  smarter: 1194\n",
      "\n",
      "Valid split:\n",
      "  celseq: 201\n",
      "  fluidigmc1: 128\n",
      "  inDrop1: 387\n",
      "  inDrop2: 345\n",
      "  inDrop3: 721\n",
      "  inDrop4: 261\n",
      "  smarter: 298\n",
      "\n",
      "Test split:\n",
      "  celseq2: 2285\n",
      "  smartseq2: 2394\n",
      "Deleted 'data_input/pancreas_full.h5ad'\n",
      "Saved 19093 genes to data_input/all_genes_list.json\n"
     ]
    }
   ],
   "source": [
    "\n",
    "# Define data paths\n",
    "data_dir = \"data_input\"\n",
    "os.makedirs(data_dir, exist_ok=True)\n",
    "\n",
    "pancreas_adata_path = os.path.join(data_dir, \"pancreas_full.h5ad\")\n",
    "train_path = os.path.join(data_dir, \"pancreas_train.h5ad\")\n",
    "valid_path = os.path.join(data_dir, \"pancreas_valid.h5ad\")\n",
    "test_path  = os.path.join(data_dir, \"pancreas_test.h5ad\")\n",
    "\n",
    "# Download if missing, otherwise load from local file\n",
    "pancreas_adata = sc.read(\n",
    "    pancreas_adata_path,\n",
    "    backup_url=\"https://figshare.com/ndownloader/files/24539828\",\n",
    ")\n",
    "\n",
    "# Split dataset by technology: keep smartseq2/celseq2 as held-out test\n",
    "query_mask = pancreas_adata.obs[\"tech\"].isin([\"smartseq2\", \"celseq2\"]).to_numpy()\n",
    "pancreas_no_test = pancreas_adata[~query_mask].copy()\n",
    "pancreas_test    = pancreas_adata[ query_mask].copy()\n",
    "\n",
    "# 80/20 train/valid split on the remaining data, stratified by technology\n",
    "y = pancreas_no_test.obs[\"tech\"].astype(\"category\")\n",
    "indices = np.arange(pancreas_no_test.n_obs)\n",
    "\n",
    "idx_train, idx_valid = train_test_split(\n",
    "    indices,\n",
    "    test_size=0.20,\n",
    "    train_size=0.80,\n",
    "    random_state=42,\n",
    "    shuffle=True,\n",
    "    stratify=y  # stratify by technology\n",
    ")\n",
    "\n",
    "pancreas_train = pancreas_no_test[idx_train].copy()\n",
    "pancreas_valid = pancreas_no_test[idx_valid].copy()\n",
    "\n",
    "# Save splits\n",
    "pancreas_train.write(train_path)\n",
    "pancreas_valid.write(valid_path)\n",
    "pancreas_test.write(test_path)\n",
    "\n",
    "print(\n",
    "    f\"Train: {pancreas_train.n_obs} cells | \"\n",
    "    f\"Valid: {pancreas_valid.n_obs} cells | \"\n",
    "    f\"Test: {pancreas_test.n_obs} cells\"\n",
    ")\n",
    "\n",
    "# Print counts per technology\n",
    "print(\"\\nCells per technology:\")\n",
    "for name, ad in [(\"Train\", pancreas_train),\n",
    "                 (\"Valid\", pancreas_valid),\n",
    "                 (\"Test\", pancreas_test)]:\n",
    "    counts = ad.obs[\"tech\"].value_counts().sort_index()\n",
    "    print(f\"\\n{name} split:\")\n",
    "    for tech, n in counts.items():\n",
    "        print(f\"  {tech}: {n}\")\n",
    "\n",
    "# --- Cleanup: delete the original full dataset file ---\n",
    "del pancreas_adata  # drop reference to ensure no open handle\n",
    "try:\n",
    "    if os.path.exists(pancreas_adata_path):\n",
    "        os.remove(pancreas_adata_path)\n",
    "        print(f\"Deleted '{pancreas_adata_path}'\")\n",
    "except Exception as e:\n",
    "    print(f\"[WARN] Could not delete '{pancreas_adata_path}': {e}\")\n",
    "\n",
    "\n",
    "# --- Save full gene list to JSON ---\n",
    "all_genes = pancreas_train.var_names.tolist()\n",
    "\n",
    "genes_json_path = os.path.join(\"data_input\", \"all_genes_list.json\")\n",
    "os.makedirs(\"data_input\", exist_ok=True)\n",
    "\n",
    "with open(genes_json_path, \"w\") as f:\n",
    "    json.dump(all_genes, f, indent=2)\n",
    "\n",
    "print(f\"Saved {len(all_genes)} genes to {genes_json_path}\")"
   ]
  },
  {
   "cell_type": "markdown",
   "id": "cca50262",
   "metadata": {},
   "source": [
    "## Data inspection"
   ]
  },
  {
   "cell_type": "code",
   "execution_count": 5,
   "id": "72b39127",
   "metadata": {},
   "outputs": [],
   "source": [
    "# Read the data\n",
    "adata = anndata.read_h5ad(\"./data_input/pancreas_train.h5ad\")"
   ]
  },
  {
   "cell_type": "code",
   "execution_count": 6,
   "id": "927ed200",
   "metadata": {},
   "outputs": [
    {
     "name": "stdout",
     "output_type": "stream",
     "text": [
      "AnnData object summary:\n",
      "AnnData object with n_obs × n_vars = 9362 × 19093\n",
      "    obs: 'tech', 'celltype', 'size_factors'\n",
      "    layers: 'counts'\n",
      "\n",
      "First 5 rows of adata.obs:\n",
      "                                   tech celltype  size_factors\n",
      "3rd-C86_S85                  fluidigmc1    delta      5.060723\n",
      "human3_lib4.final_cell_0804     inDrop3    alpha      0.010361\n",
      "human3_lib4.final_cell_0815     inDrop3     beta      0.011553\n",
      "Sample_163                      smarter     beta      1.000000\n",
      "human3_lib1.final_cell_0737     inDrop3    alpha      0.014493\n",
      "\n",
      "Available layers in adata:\n",
      "KeysView(Layers with keys: counts)\n",
      "\n",
      "First 5x5 of counts layer:\n",
      "                             A1BG  A1CF  A2M  A2ML1  A4GALT\n",
      "3rd-C86_S85                  14.7  11.0  0.0    3.0     0.0\n",
      "human3_lib4.final_cell_0804   0.0   0.0  0.0    0.0     0.0\n",
      "human3_lib4.final_cell_0815   0.0   0.0  0.0    0.0     0.0\n",
      "Sample_163                    0.0   0.0  0.0    0.0     0.0\n",
      "human3_lib1.final_cell_0737   0.0   1.0  0.0    0.0     0.0\n"
     ]
    }
   ],
   "source": [
    "# Display the AnnData object summary\n",
    "print(\"AnnData object summary:\")\n",
    "print(adata)\n",
    "\n",
    "# Display the first few rows of the observation metadata\n",
    "print(\"\\nFirst 5 rows of adata.obs:\")\n",
    "print(adata.obs.head())\n",
    "\n",
    "# Display available layers\n",
    "print(\"\\nAvailable layers in adata:\")\n",
    "print(adata.layers.keys())\n",
    "\n",
    "# Display the first 5x5 block of the counts layer (if it exists)\n",
    "print(\"\\nFirst 5x5 of counts layer:\")\n",
    "print(pd.DataFrame(adata.layers[\"counts\"][:5, :5], \n",
    "                    columns=adata.var_names[:5], \n",
    "                    index=adata.obs_names[:5]))"
   ]
  },
  {
   "cell_type": "code",
   "execution_count": 7,
   "id": "ad85dc14",
   "metadata": {},
   "outputs": [
    {
     "name": "stdout",
     "output_type": "stream",
     "text": [
      "Number of unique technologies: 7\n",
      "Technologies: fluidigmc1, inDrop3, smarter, inDrop1, celseq, inDrop4, inDrop2\n"
     ]
    }
   ],
   "source": [
    "# 1. How many unique technologies are present, and what are their names?\n",
    "\n",
    "techs = adata.obs['tech'].unique()\n",
    "print(f\"Number of unique technologies: {len(techs)}\")\n",
    "print(\"Technologies:\", \", \".join(techs))"
   ]
  },
  {
   "cell_type": "code",
   "execution_count": 8,
   "id": "04e3ae32",
   "metadata": {},
   "outputs": [
    {
     "name": "stdout",
     "output_type": "stream",
     "text": [
      "\n",
      "Number of samples (cells) per technology:\n",
      "tech\n",
      "inDrop3       2884\n",
      "inDrop1       1550\n",
      "inDrop2       1379\n",
      "smarter       1194\n",
      "inDrop4       1042\n",
      "celseq         803\n",
      "fluidigmc1     510\n"
     ]
    }
   ],
   "source": [
    "# 2. How many samples (cells) belong to each technology?\n",
    "\n",
    "tech_counts = adata.obs['tech'].value_counts()\n",
    "print(\"\\nNumber of samples (cells) per technology:\")\n",
    "print(tech_counts.to_string())"
   ]
  },
  {
   "cell_type": "code",
   "execution_count": 9,
   "id": "eaa66ffa",
   "metadata": {},
   "outputs": [
    {
     "name": "stdout",
     "output_type": "stream",
     "text": [
      "\n",
      "Total number of genes measured: 19093\n"
     ]
    }
   ],
   "source": [
    "# 3. What is the total number of genes measured in the dataset?\n",
    "\n",
    "num_genes = adata.shape[1]\n",
    "print(f\"\\nTotal number of genes measured: {num_genes}\")"
   ]
  },
  {
   "cell_type": "code",
   "execution_count": 10,
   "id": "a3844a0a",
   "metadata": {},
   "outputs": [
    {
     "name": "stdout",
     "output_type": "stream",
     "text": [
      "\n",
      "Total number of samples (cells): 9362\n"
     ]
    }
   ],
   "source": [
    "# 4. What is the total number of samples (cells) in the dataset?\n",
    "\n",
    "num_samples = adata.shape[0]\n",
    "print(f\"\\nTotal number of samples (cells): {num_samples}\")"
   ]
  },
  {
   "cell_type": "markdown",
   "id": "3b2fc154",
   "metadata": {},
   "source": [
    "## Variance analysis"
   ]
  },
  {
   "cell_type": "code",
   "execution_count": 11,
   "id": "333b7eda",
   "metadata": {},
   "outputs": [
    {
     "name": "stdout",
     "output_type": "stream",
     "text": [
      "\n",
      "Variance DataFrame (first 5 genes):\n",
      "          fluidigmc1   inDrop3     smarter   inDrop1    celseq   inDrop4  \\\n",
      "A1BG      835.186768  0.002079   99.446968  0.014618  0.710532  0.003824   \n",
      "A1CF    48044.792969  0.226555  418.187988  0.337120  0.802834  0.544838   \n",
      "A2M     80713.156250  0.042076    0.415398  0.217431  0.077846  0.163033   \n",
      "A2ML1      27.619577  0.000000    0.081731  0.000000  0.314199  0.000000   \n",
      "A4GALT     92.523102  0.153656    0.111626  0.070562  0.057321  0.150387   \n",
      "\n",
      "         inDrop2  \n",
      "A1BG    0.004332  \n",
      "A1CF    0.479885  \n",
      "A2M     0.281788  \n",
      "A2ML1   0.000000  \n",
      "A4GALT  0.097811  \n"
     ]
    }
   ],
   "source": [
    "# 5. For each technology, calculate the variance of each gene across all cells.\n",
    "\n",
    "data = adata.layers[\"counts\"]\n",
    "\n",
    "techs = adata.obs['tech'].unique()\n",
    "gene_names = adata.var_names\n",
    "\n",
    "var_df = pd.DataFrame(index=gene_names)\n",
    "\n",
    "for tech in techs:\n",
    "    idx = adata.obs['tech'] == tech\n",
    "    tech_data = data[idx, :]\n",
    "    var_df[tech] = np.var(tech_data, axis=0)\n",
    "\n",
    "print(\"\\nVariance DataFrame (first 5 genes):\")\n",
    "print(var_df.head())"
   ]
  },
  {
   "cell_type": "code",
   "execution_count": 12,
   "id": "3033069e",
   "metadata": {},
   "outputs": [
    {
     "name": "stdout",
     "output_type": "stream",
     "text": [
      "\n",
      "Weighted variance DataFrame (first 5 genes):\n",
      "        weighted_variance\n",
      "gene                     \n",
      "A1BG            58.245471\n",
      "A1CF          2670.926186\n",
      "A2M           4397.060993\n",
      "A2ML1            1.541965\n",
      "A4GALT           5.149561\n"
     ]
    }
   ],
   "source": [
    "# 6. Compute a weighted average of these variances for each gene, using the number of cells per technology as weights.\n",
    "\n",
    "weights = np.array([tech_counts[tech] for tech in var_df.columns])  # using tech_counts from point 2.\n",
    "weighted_vars = (var_df.values * weights).sum(axis=1) / weights.sum()\n",
    "\n",
    "# Store in a DataFrame with gene name and weighted variance\n",
    "weighted_var_df = pd.DataFrame({\n",
    "    \"gene\": gene_names,\n",
    "    \"weighted_variance\": weighted_vars\n",
    "}).set_index(\"gene\")\n",
    "\n",
    "print(\"\\nWeighted variance DataFrame (first 5 genes):\")\n",
    "print(weighted_var_df.head())"
   ]
  },
  {
   "cell_type": "code",
   "execution_count": 13,
   "id": "fc8f4012",
   "metadata": {},
   "outputs": [],
   "source": [
    "# 7. Save a list containing the top 2000 genes\n",
    "top2000_genes = (\n",
    "    weighted_var_df.sort_values(\"weighted_variance\", ascending=False)\n",
    "    .head(2000)\n",
    "    .index.tolist()\n",
    ")\n",
    "\n",
    "# Save to a JSON file\n",
    "with open(\"./data_output/top2000_genes_centralized.json\", \"w\") as f:\n",
    "    json.dump(top2000_genes, f, indent=2)"
   ]
  }
 ],
 "metadata": {
  "kernelspec": {
   "display_name": "fl-course-env",
   "language": "python",
   "name": "python3"
  },
  "language_info": {
   "codemirror_mode": {
    "name": "ipython",
    "version": 3
   },
   "file_extension": ".py",
   "mimetype": "text/x-python",
   "name": "python",
   "nbconvert_exporter": "python",
   "pygments_lexer": "ipython3",
   "version": "3.11.13"
  }
 },
 "nbformat": 4,
 "nbformat_minor": 5
}
