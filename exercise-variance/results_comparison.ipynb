{
 "cells": [
  {
   "cell_type": "code",
   "execution_count": null,
   "id": "5ae54d68",
   "metadata": {},
   "outputs": [],
   "source": [
    "import json\n",
    "\n",
    "# Utility to read json\n",
    "def load_json(list_path):\n",
    "    with open(list_path) as f:\n",
    "        return json.load(f)\n",
    "\n",
    "# Read gene lists using pandas\n",
    "cent_genes = load_json(\"./data_output/top2000_genes_centralized.json\")\n",
    "fed_genes = load_json(\"./data_output/top2000_genes_federated.json\")\n",
    "\n",
    "# Compare the two lists\n",
    "identical = fed_genes == cent_genes\n",
    "print(f\"Are the top 2000 gene lists identical? {identical}\")\n",
    "\n",
    "# If not identical, show how many overlap and a few differences\n",
    "if not identical:\n",
    "    overlap = len(set(fed_genes) & set(cent_genes))\n",
    "    print(f\"Number of overlapping genes: {overlap} / 2000\")\n",
    "    # Show genes in federated but not in centralized (up to 10)\n",
    "    diff_fed = [g for g in fed_genes if g not in cent_genes][:10]\n",
    "    print(\"Genes in federated but not in centralized (up to 10):\", diff_fed)\n",
    "    # Show genes in centralized but not in federated (up to 10)\n",
    "    diff_cent = [g for g in cent_genes if g not in fed_genes][:10]\n",
    "    print(\"Genes in centralized but not in federated (up to 10):\", diff_cent)"
   ]
  }
 ],
 "metadata": {
  "kernelspec": {
   "display_name": "fl-course-env",
   "language": "python",
   "name": "python3"
  },
  "language_info": {
   "codemirror_mode": {
    "name": "ipython",
    "version": 3
   },
   "file_extension": ".py",
   "mimetype": "text/x-python",
   "name": "python",
   "nbconvert_exporter": "python",
   "pygments_lexer": "ipython3",
   "version": "3.11.13"
  }
 },
 "nbformat": 4,
 "nbformat_minor": 5
}
