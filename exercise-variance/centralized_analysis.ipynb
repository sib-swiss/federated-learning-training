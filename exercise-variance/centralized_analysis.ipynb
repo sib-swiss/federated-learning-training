{
 "cells": [
  {
   "cell_type": "code",
   "execution_count": null,
   "id": "e72faf8d",
   "metadata": {},
   "outputs": [],
   "source": [
    "import pandas as pd\n",
    "import numpy as np\n",
    "import anndata\n",
    "import json\n",
    "import os\n",
    "import scanpy as sc\n",
    "from sklearn.model_selection import train_test_split"
   ]
  },
  {
   "cell_type": "markdown",
   "id": "9e771352",
   "metadata": {},
   "source": [
    "## Data download"
   ]
  },
  {
   "cell_type": "code",
   "execution_count": null,
   "id": "e863b2c8",
   "metadata": {},
   "outputs": [],
   "source": [
    "\n",
    "# Define data paths\n",
    "data_dir = \"data_input\"\n",
    "os.makedirs(data_dir, exist_ok=True)\n",
    "\n",
    "pancreas_adata_path = os.path.join(data_dir, \"pancreas_full.h5ad\")\n",
    "train_path = os.path.join(data_dir, \"pancreas_train.h5ad\")\n",
    "valid_path = os.path.join(data_dir, \"pancreas_valid.h5ad\")\n",
    "test_path  = os.path.join(data_dir, \"pancreas_test.h5ad\")\n",
    "\n",
    "# Download if missing, otherwise load from local file\n",
    "pancreas_adata = sc.read(\n",
    "    pancreas_adata_path,\n",
    "    backup_url=\"https://figshare.com/ndownloader/files/24539828\",\n",
    ")\n",
    "\n",
    "# Split dataset by technology: keep smartseq2/celseq2 as held-out test\n",
    "query_mask = pancreas_adata.obs[\"tech\"].isin([\"smartseq2\", \"celseq2\"]).to_numpy()\n",
    "pancreas_no_test = pancreas_adata[~query_mask].copy()\n",
    "pancreas_test    = pancreas_adata[ query_mask].copy()\n",
    "\n",
    "# 80/20 train/valid split on the remaining data, stratified by technology\n",
    "y = pancreas_no_test.obs[\"tech\"].astype(\"category\")\n",
    "indices = np.arange(pancreas_no_test.n_obs)\n",
    "\n",
    "idx_train, idx_valid = train_test_split(\n",
    "    indices,\n",
    "    test_size=0.20,\n",
    "    train_size=0.80,\n",
    "    random_state=42,\n",
    "    shuffle=True,\n",
    "    stratify=y  # stratify by technology\n",
    ")\n",
    "\n",
    "pancreas_train = pancreas_no_test[idx_train].copy()\n",
    "pancreas_valid = pancreas_no_test[idx_valid].copy()\n",
    "\n",
    "# Save splits\n",
    "pancreas_train.write(train_path)\n",
    "pancreas_valid.write(valid_path)\n",
    "pancreas_test.write(test_path)\n",
    "\n",
    "print(\n",
    "    f\"Train: {pancreas_train.n_obs} cells | \"\n",
    "    f\"Valid: {pancreas_valid.n_obs} cells | \"\n",
    "    f\"Test: {pancreas_test.n_obs} cells\"\n",
    ")\n",
    "\n",
    "# Print counts per technology\n",
    "print(\"\\nCells per technology:\")\n",
    "for name, ad in [(\"Train\", pancreas_train),\n",
    "                 (\"Valid\", pancreas_valid),\n",
    "                 (\"Test\", pancreas_test)]:\n",
    "    counts = ad.obs[\"tech\"].value_counts().sort_index()\n",
    "    print(f\"\\n{name} split:\")\n",
    "    for tech, n in counts.items():\n",
    "        print(f\"  {tech}: {n}\")\n",
    "\n",
    "# --- Cleanup: delete the original full dataset file ---\n",
    "del pancreas_adata  # drop reference to ensure no open handle\n",
    "try:\n",
    "    if os.path.exists(pancreas_adata_path):\n",
    "        os.remove(pancreas_adata_path)\n",
    "        print(f\"Deleted '{pancreas_adata_path}'\")\n",
    "except Exception as e:\n",
    "    print(f\"[WARN] Could not delete '{pancreas_adata_path}': {e}\")\n",
    "\n",
    "\n",
    "# --- Save full gene list to JSON ---\n",
    "all_genes = pancreas_train.var_names.tolist()\n",
    "\n",
    "genes_json_path = os.path.join(\"data_input\", \"all_genes_list.json\")\n",
    "os.makedirs(\"data_input\", exist_ok=True)\n",
    "\n",
    "with open(genes_json_path, \"w\") as f:\n",
    "    json.dump(all_genes, f, indent=2)\n",
    "\n",
    "print(f\"Saved {len(all_genes)} genes to {genes_json_path}\")"
   ]
  },
  {
   "cell_type": "markdown",
   "id": "cca50262",
   "metadata": {},
   "source": [
    "## Data inspection"
   ]
  },
  {
   "cell_type": "code",
   "execution_count": null,
   "id": "72b39127",
   "metadata": {},
   "outputs": [],
   "source": [
    "# Read the data\n",
    "adata = anndata.read_h5ad(\"./data_input/pancreas_train.h5ad\")"
   ]
  },
  {
   "cell_type": "code",
   "execution_count": null,
   "id": "927ed200",
   "metadata": {},
   "outputs": [],
   "source": [
    "# Display the AnnData object summary\n",
    "print(\"AnnData object summary:\")\n",
    "print(adata)\n",
    "\n",
    "# Display the first few rows of the observation metadata\n",
    "print(\"\\nFirst 5 rows of adata.obs:\")\n",
    "print(adata.obs.head())\n",
    "\n",
    "# Display available layers\n",
    "print(\"\\nAvailable layers in adata:\")\n",
    "print(adata.layers.keys())\n",
    "\n",
    "# Display the first 5x5 block of the counts layer (if it exists)\n",
    "print(\"\\nFirst 5x5 of counts layer:\")\n",
    "print(pd.DataFrame(adata.layers[\"counts\"][:5, :5], \n",
    "                    columns=adata.var_names[:5], \n",
    "                    index=adata.obs_names[:5]))"
   ]
  },
  {
   "cell_type": "code",
   "execution_count": null,
   "id": "ad85dc14",
   "metadata": {},
   "outputs": [],
   "source": [
    "# 1. How many unique technologies are present, and what are their names?\n",
    "\n"
   ]
  },
  {
   "cell_type": "code",
   "execution_count": null,
   "id": "04e3ae32",
   "metadata": {},
   "outputs": [],
   "source": [
    "# 2. How many samples (cells) belong to each technology?\n",
    "\n"
   ]
  },
  {
   "cell_type": "code",
   "execution_count": null,
   "id": "eaa66ffa",
   "metadata": {},
   "outputs": [],
   "source": [
    "# 3. What is the total number of genes measured in the dataset?\n",
    "\n"
   ]
  },
  {
   "cell_type": "code",
   "execution_count": null,
   "id": "a3844a0a",
   "metadata": {},
   "outputs": [],
   "source": [
    "# 4. What is the total number of samples (cells) in the dataset?\n",
    "\n"
   ]
  },
  {
   "cell_type": "markdown",
   "id": "3b2fc154",
   "metadata": {},
   "source": [
    "## Variance analysis"
   ]
  },
  {
   "cell_type": "code",
   "execution_count": null,
   "id": "333b7eda",
   "metadata": {},
   "outputs": [],
   "source": [
    "# 5. For each technology, calculate the variance of each gene across all cells.\n",
    "\n"
   ]
  },
  {
   "cell_type": "code",
   "execution_count": null,
   "id": "3033069e",
   "metadata": {},
   "outputs": [],
   "source": [
    "# 6. Compute a weighted average of these variances for each gene, using the number of cells per technology as weights.\n",
    "\n"
   ]
  },
  {
   "cell_type": "code",
   "execution_count": null,
   "id": "fc8f4012",
   "metadata": {},
   "outputs": [],
   "source": [
    "# 7. Save a list containing the top 2000 genes\n",
    "#top2000_genes = ...\n",
    "\n",
    "# Save to a JSON file\n",
    "#with open(\"./data_output/top2000_genes_centralized.json\", \"w\") as f:\n",
    "#    json.dump(top2000_genes, f, indent=2)"
   ]
  }
 ],
 "metadata": {
  "kernelspec": {
   "display_name": "fl-course-env",
   "language": "python",
   "name": "python3"
  },
  "language_info": {
   "codemirror_mode": {
    "name": "ipython",
    "version": 3
   },
   "file_extension": ".py",
   "mimetype": "text/x-python",
   "name": "python",
   "nbconvert_exporter": "python",
   "pygments_lexer": "ipython3",
   "version": "3.11.13"
  }
 },
 "nbformat": 4,
 "nbformat_minor": 5
}
